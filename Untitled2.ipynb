{
  "nbformat": 4,
  "nbformat_minor": 0,
  "metadata": {
    "colab": {
      "provenance": [],
      "authorship_tag": "ABX9TyOhcjMUjDZ4kFof6uesxEW3",
      "include_colab_link": true
    },
    "kernelspec": {
      "name": "python3",
      "display_name": "Python 3"
    },
    "language_info": {
      "name": "python"
    }
  },
  "cells": [
    {
      "cell_type": "markdown",
      "metadata": {
        "id": "view-in-github",
        "colab_type": "text"
      },
      "source": [
        "<a href=\"https://colab.research.google.com/github/crzfebro-jpg/EJERCICIOS-DE-FUNDAMENTOS-DE-PROGRAMACI-N/blob/main/Untitled2.ipynb\" target=\"_parent\"><img src=\"https://colab.research.google.com/assets/colab-badge.svg\" alt=\"Open In Colab\"/></a>"
      ]
    },
    {
      "cell_type": "markdown",
      "source": [
        "\"C:\\Users\\febro\\Downloads\\FUNDAMENTOS DE PROGRAMACIÒN\\Ejercio_1_EFCD_FP\\Ejercicio 1 MCM.pdf\""
      ],
      "metadata": {
        "id": "MBbzLZUFbVH0"
      }
    },
    {
      "cell_type": "markdown",
      "source": [
        "\"C:\\Users\\febro\\Downloads\\FUNDAMENTOS DE PROGRAMACIÒN\\Ejercio_1_EFCD_FP\\Ejercicio 1 CDV.pdf\""
      ],
      "metadata": {
        "id": "_6lHIKYQbXXy"
      }
    }
  ]
}