{
  "nbformat": 4,
  "nbformat_minor": 0,
  "metadata": {
    "colab": {
      "provenance": [],
      "toc_visible": true,
      "authorship_tag": "ABX9TyOLTUMlTdeodd9FY8CpcLDB",
      "include_colab_link": true
    },
    "kernelspec": {
      "name": "python3",
      "display_name": "Python 3"
    },
    "language_info": {
      "name": "python"
    }
  },
  "cells": [
    {
      "cell_type": "markdown",
      "metadata": {
        "id": "view-in-github",
        "colab_type": "text"
      },
      "source": [
        "<a href=\"https://colab.research.google.com/github/crzfebro-jpg/EJERCICIOS-DE-FUNDAMENTOS-DE-PROGRAMACI-N/blob/main/EJERCICIO1_FP.ipynb\" target=\"_parent\"><img src=\"https://colab.research.google.com/assets/colab-badge.svg\" alt=\"Open In Colab\"/></a>"
      ]
    },
    {
      "cell_type": "code",
      "execution_count": null,
      "metadata": {
        "colab": {
          "base_uri": "https://localhost:8080/",
          "height": 36
        },
        "id": "CDYe5iqaxg-n",
        "outputId": "fa6c8916-b2fd-43c7-9ec7-824ac2d0084f"
      },
      "outputs": [
        {
          "output_type": "execute_result",
          "data": {
            "text/plain": [
              "'CRUZ DIAZ EDGAR FEBRONIO'"
            ],
            "application/vnd.google.colaboratory.intrinsic+json": {
              "type": "string"
            }
          },
          "metadata": {},
          "execution_count": 1
        }
      ],
      "source": [
        "\"EJERCICIO 1 FUNDAMENTOS DE PROGRAMACION\"\n",
        "\"CRUZ DIAZ EDGAR FEBRONIO\""
      ]
    },
    {
      "cell_type": "markdown",
      "source": [
        "\"C:\\Users\\febro\\Downloads\\FUNDAMENTOS DE PROGRAMACIÒN\\Ejercio_1_EFCD_FP\\Ejercicio1_(CDV,MCM,LINKS).pdf\""
      ],
      "metadata": {
        "id": "7hcFEzrBxhvl"
      }
    }
  ]
}